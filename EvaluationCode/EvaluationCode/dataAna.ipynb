{
 "cells": [
  {
   "cell_type": "markdown",
   "metadata": {},
   "source": [
    "## 准确率计算 acc\n",
    "\n",
    "计算大模型评估结果的准确率和数量，具体路径例子为：/Users/arnodorian/Desktop/tablellmpipeline/EvaluationCode/ImTqa/Qwen2-5/qwen2-5_EvaRes.json"
   ]
  },
  {
   "cell_type": "code",
   "execution_count": 3,
   "metadata": {},
   "outputs": [
    {
     "name": "stdout",
     "output_type": "stream",
     "text": [
      "总数量为:515\n",
      "总体准确率为: 0.61\n"
     ]
    }
   ],
   "source": [
    "import json\n",
    "\n",
    "def calculate_accuracy(json_path):\n",
    "    # 读取 json 文件\n",
    "    with open(json_path, 'r', encoding='utf-8') as file:\n",
    "        data = json.load(file)\n",
    "    \n",
    "    # 计算 ExtractResult 为 \"1\" 的数量\n",
    "    correct_count = sum(1 for item in data if item.get('ExtractResult') == \"1\")\n",
    "    \n",
    "    # 计算总数量\n",
    "    total_count = len(data)\n",
    "    \n",
    "    # 计算准确率\n",
    "    accuracy = correct_count / total_count if total_count > 0 else 0\n",
    "\n",
    "    print(f\"总数量为:{total_count}\")\n",
    "    \n",
    "    return accuracy\n",
    "\n",
    "# 使用示例\n",
    "json_path = '/raid/share/jiangchangjiang/tablellmPipeline/EvaluationCode/TableBench/qwen2-5_EvaRes.json'  # 替换为你的 JSON 文件路径\n",
    "accuracy = calculate_accuracy(json_path)\n",
    "print(f\"总体准确率为: {accuracy:.2f}\")"
   ]
  }
 ],
 "metadata": {
  "kernelspec": {
   "display_name": "hf",
   "language": "python",
   "name": "python3"
  },
  "language_info": {
   "codemirror_mode": {
    "name": "ipython",
    "version": 3
   },
   "file_extension": ".py",
   "mimetype": "text/x-python",
   "name": "python",
   "nbconvert_exporter": "python",
   "pygments_lexer": "ipython3",
   "version": "3.11.9"
  }
 },
 "nbformat": 4,
 "nbformat_minor": 2
}
