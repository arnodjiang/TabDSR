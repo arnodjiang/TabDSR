{
 "cells": [
  {
   "cell_type": "code",
   "execution_count": 1,
   "metadata": {},
   "outputs": [
    {
     "name": "stdout",
     "output_type": "stream",
     "text": [
      "2025  年 02 月 21\n",
      "2026 年 03 月5 日\n",
      "2027年03月28日\n"
     ]
    }
   ],
   "source": [
    "import re\n",
    "\n",
    "texts = [\n",
    "    \"2024   年 阿萨德阿萨德\",\n",
    "    \"啊速度很快2025  年 02 月 2131 阿萨德  \"\n",
    "    \"2026 年 03 月5 日 \"\n",
    "    \"2027年03月28日\"\n",
    "]\n",
    "\n",
    "for text in texts:\n",
    "    for match_p in re.finditer(\"(\\d{4})\\s*年\\s*(\\d{1,2})?\\s*月\\s*(\\d{1,2})?\\s*日?\", text):\n",
    "        print(match_p.group())"
   ]
  }
 ],
 "metadata": {
  "kernelspec": {
   "display_name": "Python 3",
   "language": "python",
   "name": "python3"
  },
  "language_info": {
   "name": "python",
   "version": "3.11.9"
  }
 },
 "nbformat": 4,
 "nbformat_minor": 2
}
